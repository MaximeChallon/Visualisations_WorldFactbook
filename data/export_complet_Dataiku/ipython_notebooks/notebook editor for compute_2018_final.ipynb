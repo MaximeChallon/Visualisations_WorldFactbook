{
  "metadata": {
    "creator": "admin",
    "customFields": {},
    "kernelspec": {
      "display_name": "Python 2",
      "language": "python",
      "name": "python2"
    },
    "language_info": {
      "codemirror_mode": {
        "name": "ipython",
        "version": 2
      },
      "file_extension": ".py",
      "mimetype": "text/x-python",
      "name": "python",
      "nbconvert_exporter": "python",
      "pygments_lexer": "ipython2",
      "version": "2.7.17"
    },
    "tags": [
      "deleted-recipe-editor"
    ]
  },
  "nbformat": 4,
  "nbformat_minor": 1,
  "cells": [
    {
      "execution_count": 53,
      "cell_type": "code",
      "metadata": {},
      "source": [
        "# -*- coding: utf-8 -*-\n",
        "import dataiku\n",
        "import re\n",
        "import pandas as pd, numpy as np\n",
        "from dataiku import pandasutils as pdu\n",
        "\n",
        "# Read recipe inputs\n",
        "in_pays \u003d dataiku.Dataset(\"2018_pays_prepared\")\n",
        "in_pays_df \u003d in_pays.get_dataframe()\n",
        "in_orgs \u003d dataiku.Dataset(\"2018_toutes_organisations\")\n",
        "in_orgs_df \u003d in_orgs.get_dataframe()\n",
        "\n",
        "out_df \u003d in_orgs_df\n",
        "# renommage des colonnes de sortie\n",
        "out_df \u003d out_df.rename(columns \u003d {\u0027abbrev\u0027:\u0027abbrev_org\u0027,\n",
        "                                  \u0027name\u0027:\u0027name_org\u0027,\n",
        "                                 \"established\": \"date de création\",\n",
        "                                  \"GPS.value_first\": \"GPS_siege\",\n",
        "                                  \"longitude_first\": \"longitude_siege\",\n",
        "                                  \"latitude_first\": \"latitude_siege\",\n",
        "                                  \"point_palladio_first\": \"point_palladio\",\n",
        "                                  \"siegeLabel.value_first\": \"nom_siege\"\n",
        "                                 })\n",
        "\n",
        "\n",
        "# création d\u0027un dictionnaire avec en valeur la liste des orgs auxquelles la clé (nom du pays) appartient\n",
        "dico_noms_pays_orgs \u003d {}\n",
        "for row in in_pays.iter_rows():\n",
        "    dico_noms_pays_orgs[row[\"name\"]]\u003dre.split(r\u0027\\\\\u0027, row[\"memberships\"])\n",
        "\n",
        "pays_des_orgs \u003d []\n",
        "for org in [une_org[\"abbrev\"] for une_org in in_orgs.iter_rows()]:\n",
        "    liste_des_pays \u003d []\n",
        "    for pays in dico_noms_pays_orgs:\n",
        "        if org in dico_noms_pays_orgs.get(pays):\n",
        "            liste_des_pays.append(pays)\n",
        "    pays_des_orgs.append(liste_des_pays)\n",
        "\n",
        "out_df[\"members\"]\u003dpays_des_orgs\n",
        "\n",
        "\n",
        "dico_pop_pays_orgs \u003d {}\n",
        "for row in in_pays.iter_rows():\n",
        "    dico_pop_pays_orgs[row[\"name\"]]\u003drow[\"population\"]\n",
        "\n",
        "population_orgs  \u003d []\n",
        "for org in pays_des_orgs:\n",
        "    population_org \u003d 0\n",
        "    for pays in org:\n",
        "        population_org +\u003d dico_pop_pays_orgs.get(pays)\n",
        "    population_orgs.append(population_org)\n",
        "\n",
        "out_df[\"population_org\"]\u003dpopulation_orgs\n",
        "\n",
        "\"\"\"\n",
        "population_des_orgs \u003d []\n",
        "for org in [une_org[\"abbrev\"] for une_org in in_orgs.iter_rows()]:\n",
        "    populations \u003d 0\n",
        "    for pays in dico_pop_pays_orgs:\n",
        "        if org in dico_pop_pays_orgs.get(pays):\n",
        "            populations +\u003d dico_pop_pays_orgs.get(pays)\n",
        "    print(populations)\n",
        "    pays_des_orgs.append(liste_des_pays)\"\"\"\n",
        "\n",
        "\n",
        "# Write recipe outputs\n",
        "out \u003d dataiku.Dataset(\"2018_final\")\n",
        "out.write_with_schema(out_df)"
      ],
      "outputs": [
        {
          "name": "stdout",
          "output_type": "stream",
          "text": [
            "152 rows successfully written (E2FgCRWuFo)\n"
          ]
        }
      ]
    }
  ]
}